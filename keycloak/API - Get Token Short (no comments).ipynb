{
 "cells": [
  {
   "cell_type": "code",
   "execution_count": 1,
   "id": "3851cdfb",
   "metadata": {},
   "outputs": [],
   "source": [
    "# !pip install python-keycloak\n",
    "# !pip install requests\n",
    "# # !pip install BeautifulSoup"
   ]
  },
  {
   "cell_type": "code",
   "execution_count": null,
   "id": "52e8c06f",
   "metadata": {},
   "outputs": [],
   "source": []
  },
  {
   "cell_type": "code",
   "execution_count": 3,
   "id": "f64b56e7",
   "metadata": {},
   "outputs": [
    {
     "name": "stdout",
     "output_type": "stream",
     "text": [
      "Bearer eyJhbGciOiJSUzI1NiIsInR5cCIgOiAiSldUIiwia2lkIiA6ICJJendtSm1JRVk3N1EybVVwUWpReWtwWWR6Q1h3M3FzN0dyNHlIMzBIX3NjIn0.eyJleHAiOjE2ODY3NzQyNjcsImlhdCI6MTY4Njc3Mzk2NywiYXV0aF90aW1lIjoxNjg2NzczOTY3LCJqdGkiOiJhZjMxNGRkYy0zNTZmLTRjY2MtYmI5YS1iOTMxN2Q3YWYxZTkiLCJpc3MiOiJodHRwOi8vbG9jYWxob3N0OjgwODAvYXV0aC9yZWFsbXMvUk9MQVAiLCJhdWQiOiJhY2NvdW50Iiwic3ViIjoiYmVmYzVjNTUtYTM3Zi00MWU1LTk4ZmEtNmQxODE3NzgxMWY5IiwidHlwIjoiQmVhcmVyIiwiYXpwIjoicm9sYXAtd2ViIiwic2Vzc2lvbl9zdGF0ZSI6ImM5ZWI3Njg2LWM4MjEtNDA5Zi04YTg3LWVmYWRlNDM5OTUxNCIsImFjciI6IjEiLCJhbGxvd2VkLW9yaWdpbnMiOlsiKiJdLCJyZWFsbV9hY2Nlc3MiOnsicm9sZXMiOlsiZGVmYXVsdC1yb2xlcy1yb2xhcCIsIm9mZmxpbmVfYWNjZXNzIiwidW1hX2F1dGhvcml6YXRpb24iXX0sInJlc291cmNlX2FjY2VzcyI6eyJhY2NvdW50Ijp7InJvbGVzIjpbIm1hbmFnZS1hY2NvdW50IiwibWFuYWdlLWFjY291bnQtbGlua3MiLCJ2aWV3LXByb2ZpbGUiXX19LCJzY29wZSI6Im9wZW5pZCBwcm9maWxlIGVtYWlsIiwic2lkIjoiYzllYjc2ODYtYzgyMS00MDlmLThhODctZWZhZGU0Mzk5NTE0IiwiZW1haWxfdmVyaWZpZWQiOnRydWUsIm5hbWUiOiJBbGVrc2FuZHJhIExld2FuZG93c2thIiwicHJlZmVycmVkX3VzZXJuYW1lIjoiYWxleCIsImdpdmVuX25hbWUiOiJBbGVrc2FuZHJhIiwiZmFtaWx5X25hbWUiOiJMZXdhbmRvd3NrYSIsImVtYWlsIjoib2xhLmxld2FuZG93c2thMTJAZ21haWwuY29tIn0.evgML71HxgTRc2YK_ytwYpV4z05BGvKAz8WoQQLEOjmMiX6hjrMR2dwijha2cT9LZKB8EmZP5FCjBah4UGrM3k9JH07WzHDCYBMsqeHRbrWESml6GPnpppDHa381sVNrOSyILVI82beXSyqQBM1z2aztNjYW3fuNUbo8ARXJDPBo5h_hpqPpcpsH2WNiUj8wVmTCZ6o6De2ZjefuJ-pE3MXNVVp8RVMjBHaAv5LdLVCSFhjS4iH7VJfXaL7XcUpI_HwcZ201jv-kHgHPlxD12TfQDvxbAYtp0hIbhy4_cDmy7kjWLtnCZj1VsZoO8_Gg7TbMuaKmL1UaYfUEEDFQYQ\n"
     ]
    }
   ],
   "source": [
    "import requests\n",
    "from bs4 import BeautifulSoup\n",
    "from keycloak import KeycloakOpenID\n",
    "import  urllib.parse\n",
    "\n",
    "keycloak_openid = KeycloakOpenID(server_url=\"http://localhost:8080/auth/\",\n",
    "                                 client_id=\"rolap-web\",\n",
    "                                 realm_name=\"ROLAP\",\n",
    "                                 client_secret_key=\"CN4jMjmop2SdIZaEU5LW0Xla2wMM94Nt\")\n",
    "\n",
    "config_well_known = keycloak_openid.well_known()\n",
    "\n",
    "auth_url = keycloak_openid.auth_url(\n",
    "    redirect_uri=\"http://localhost:4200/callback\",\n",
    "    scope=\"email profile openid\",\n",
    "    state=\"your_state_info\")\n",
    "\n",
    "response = requests.get(auth_url)\n",
    "\n",
    "soup = BeautifulSoup(response.content, \"html\")\n",
    "action = soup.find('form').get('action')\n",
    "\n",
    "credentials_payload = { 'username': 'alex', 'password': 'Matematyka1!'}\n",
    "\n",
    "session = requests.Session()\n",
    "session.max_redirects = 1\n",
    "response2 = session.post(action, cookies=response.cookies, data=credentials_payload, allow_redirects=False)\n",
    "\n",
    "redirect_url = response2.headers['Location']\n",
    "\n",
    "parsed_redirect_url = urllib.parse.urlparse(redirect_url)\n",
    "code = captured_value = urllib.parse.parse_qs(parsed_redirect_url.query)['code'][0]\n",
    "\n",
    "access_token = keycloak_openid.token(\n",
    "    grant_type='authorization_code',\n",
    "    code=code,\n",
    "    redirect_uri=\"http://localhost:4200/callback\")\n",
    "\n",
    "print('Bearer ' + access_token['access_token'])"
   ]
  },
  {
   "cell_type": "code",
   "execution_count": null,
   "id": "0f139c63",
   "metadata": {},
   "outputs": [],
   "source": []
  }
 ],
 "metadata": {
  "kernelspec": {
   "display_name": "Python 3 (ipykernel)",
   "language": "python",
   "name": "python3"
  },
  "language_info": {
   "codemirror_mode": {
    "name": "ipython",
    "version": 3
   },
   "file_extension": ".py",
   "mimetype": "text/x-python",
   "name": "python",
   "nbconvert_exporter": "python",
   "pygments_lexer": "ipython3",
   "version": "3.11.3"
  }
 },
 "nbformat": 4,
 "nbformat_minor": 5
}
