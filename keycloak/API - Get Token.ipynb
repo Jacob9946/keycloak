{
 "cells": [
  {
   "cell_type": "code",
   "execution_count": 2,
   "id": "4cb04cbf",
   "metadata": {},
   "outputs": [],
   "source": [
    "# !pip install python-keycloak"
   ]
  },
  {
   "cell_type": "code",
   "execution_count": 1,
   "id": "25850ea1",
   "metadata": {},
   "outputs": [],
   "source": [
    "from keycloak import KeycloakOpenID"
   ]
  },
  {
   "cell_type": "markdown",
   "id": "5dc4f6af",
   "metadata": {},
   "source": [
    "## Configure client"
   ]
  },
  {
   "cell_type": "code",
   "execution_count": 47,
   "id": "54d38637",
   "metadata": {},
   "outputs": [
    {
     "data": {
      "text/plain": [
       "<keycloak.keycloak_openid.KeycloakOpenID at 0x16412a86c20>"
      ]
     },
     "execution_count": 47,
     "metadata": {},
     "output_type": "execute_result"
    }
   ],
   "source": [
    "keycloak_openid = KeycloakOpenID(server_url=\"http://localhost:8080/auth/\",\n",
    "                                 client_id=\"rolap-web\",\n",
    "                                 realm_name=\"ROLAP\",\n",
    "                                 client_secret_key=\"CN4jMjmop2SdIZaEU5LW0Xla2wMM94Nt\")\n",
    "\n",
    "keycloak_openid"
   ]
  },
  {
   "cell_type": "markdown",
   "id": "e4176d49",
   "metadata": {},
   "source": [
    "## Get Well Known"
   ]
  },
  {
   "cell_type": "markdown",
   "id": "8d6c7478",
   "metadata": {},
   "source": [
    "Here we can read metadata and available keyclock endpoints.\n",
    "Compatible with OpenID standard."
   ]
  },
  {
   "cell_type": "code",
   "execution_count": 48,
   "id": "1b3dee99",
   "metadata": {},
   "outputs": [
    {
     "data": {
      "text/plain": [
       "{'issuer': 'http://localhost:8080/auth/realms/ROLAP',\n",
       " 'authorization_endpoint': 'http://localhost:8080/auth/realms/ROLAP/protocol/openid-connect/auth',\n",
       " 'token_endpoint': 'http://localhost:8080/auth/realms/ROLAP/protocol/openid-connect/token',\n",
       " 'introspection_endpoint': 'http://localhost:8080/auth/realms/ROLAP/protocol/openid-connect/token/introspect',\n",
       " 'userinfo_endpoint': 'http://localhost:8080/auth/realms/ROLAP/protocol/openid-connect/userinfo',\n",
       " 'end_session_endpoint': 'http://localhost:8080/auth/realms/ROLAP/protocol/openid-connect/logout',\n",
       " 'frontchannel_logout_session_supported': True,\n",
       " 'frontchannel_logout_supported': True,\n",
       " 'jwks_uri': 'http://localhost:8080/auth/realms/ROLAP/protocol/openid-connect/certs',\n",
       " 'check_session_iframe': 'http://localhost:8080/auth/realms/ROLAP/protocol/openid-connect/login-status-iframe.html',\n",
       " 'grant_types_supported': ['authorization_code',\n",
       "  'implicit',\n",
       "  'refresh_token',\n",
       "  'password',\n",
       "  'client_credentials',\n",
       "  'urn:ietf:params:oauth:grant-type:device_code',\n",
       "  'urn:openid:params:grant-type:ciba'],\n",
       " 'acr_values_supported': ['0', '1'],\n",
       " 'response_types_supported': ['code',\n",
       "  'none',\n",
       "  'id_token',\n",
       "  'token',\n",
       "  'id_token token',\n",
       "  'code id_token',\n",
       "  'code token',\n",
       "  'code id_token token'],\n",
       " 'subject_types_supported': ['public', 'pairwise'],\n",
       " 'id_token_signing_alg_values_supported': ['PS384',\n",
       "  'ES384',\n",
       "  'RS384',\n",
       "  'HS256',\n",
       "  'HS512',\n",
       "  'ES256',\n",
       "  'RS256',\n",
       "  'HS384',\n",
       "  'ES512',\n",
       "  'PS256',\n",
       "  'PS512',\n",
       "  'RS512'],\n",
       " 'id_token_encryption_alg_values_supported': ['RSA-OAEP',\n",
       "  'RSA-OAEP-256',\n",
       "  'RSA1_5'],\n",
       " 'id_token_encryption_enc_values_supported': ['A256GCM',\n",
       "  'A192GCM',\n",
       "  'A128GCM',\n",
       "  'A128CBC-HS256',\n",
       "  'A192CBC-HS384',\n",
       "  'A256CBC-HS512'],\n",
       " 'userinfo_signing_alg_values_supported': ['PS384',\n",
       "  'ES384',\n",
       "  'RS384',\n",
       "  'HS256',\n",
       "  'HS512',\n",
       "  'ES256',\n",
       "  'RS256',\n",
       "  'HS384',\n",
       "  'ES512',\n",
       "  'PS256',\n",
       "  'PS512',\n",
       "  'RS512',\n",
       "  'none'],\n",
       " 'userinfo_encryption_alg_values_supported': ['RSA-OAEP',\n",
       "  'RSA-OAEP-256',\n",
       "  'RSA1_5'],\n",
       " 'userinfo_encryption_enc_values_supported': ['A256GCM',\n",
       "  'A192GCM',\n",
       "  'A128GCM',\n",
       "  'A128CBC-HS256',\n",
       "  'A192CBC-HS384',\n",
       "  'A256CBC-HS512'],\n",
       " 'request_object_signing_alg_values_supported': ['PS384',\n",
       "  'ES384',\n",
       "  'RS384',\n",
       "  'HS256',\n",
       "  'HS512',\n",
       "  'ES256',\n",
       "  'RS256',\n",
       "  'HS384',\n",
       "  'ES512',\n",
       "  'PS256',\n",
       "  'PS512',\n",
       "  'RS512',\n",
       "  'none'],\n",
       " 'request_object_encryption_alg_values_supported': ['RSA-OAEP',\n",
       "  'RSA-OAEP-256',\n",
       "  'RSA1_5'],\n",
       " 'request_object_encryption_enc_values_supported': ['A256GCM',\n",
       "  'A192GCM',\n",
       "  'A128GCM',\n",
       "  'A128CBC-HS256',\n",
       "  'A192CBC-HS384',\n",
       "  'A256CBC-HS512'],\n",
       " 'response_modes_supported': ['query',\n",
       "  'fragment',\n",
       "  'form_post',\n",
       "  'query.jwt',\n",
       "  'fragment.jwt',\n",
       "  'form_post.jwt',\n",
       "  'jwt'],\n",
       " 'registration_endpoint': 'http://localhost:8080/auth/realms/ROLAP/clients-registrations/openid-connect',\n",
       " 'token_endpoint_auth_methods_supported': ['private_key_jwt',\n",
       "  'client_secret_basic',\n",
       "  'client_secret_post',\n",
       "  'tls_client_auth',\n",
       "  'client_secret_jwt'],\n",
       " 'token_endpoint_auth_signing_alg_values_supported': ['PS384',\n",
       "  'ES384',\n",
       "  'RS384',\n",
       "  'HS256',\n",
       "  'HS512',\n",
       "  'ES256',\n",
       "  'RS256',\n",
       "  'HS384',\n",
       "  'ES512',\n",
       "  'PS256',\n",
       "  'PS512',\n",
       "  'RS512'],\n",
       " 'introspection_endpoint_auth_methods_supported': ['private_key_jwt',\n",
       "  'client_secret_basic',\n",
       "  'client_secret_post',\n",
       "  'tls_client_auth',\n",
       "  'client_secret_jwt'],\n",
       " 'introspection_endpoint_auth_signing_alg_values_supported': ['PS384',\n",
       "  'ES384',\n",
       "  'RS384',\n",
       "  'HS256',\n",
       "  'HS512',\n",
       "  'ES256',\n",
       "  'RS256',\n",
       "  'HS384',\n",
       "  'ES512',\n",
       "  'PS256',\n",
       "  'PS512',\n",
       "  'RS512'],\n",
       " 'authorization_signing_alg_values_supported': ['PS384',\n",
       "  'ES384',\n",
       "  'RS384',\n",
       "  'HS256',\n",
       "  'HS512',\n",
       "  'ES256',\n",
       "  'RS256',\n",
       "  'HS384',\n",
       "  'ES512',\n",
       "  'PS256',\n",
       "  'PS512',\n",
       "  'RS512'],\n",
       " 'authorization_encryption_alg_values_supported': ['RSA-OAEP',\n",
       "  'RSA-OAEP-256',\n",
       "  'RSA1_5'],\n",
       " 'authorization_encryption_enc_values_supported': ['A256GCM',\n",
       "  'A192GCM',\n",
       "  'A128GCM',\n",
       "  'A128CBC-HS256',\n",
       "  'A192CBC-HS384',\n",
       "  'A256CBC-HS512'],\n",
       " 'claims_supported': ['aud',\n",
       "  'sub',\n",
       "  'iss',\n",
       "  'auth_time',\n",
       "  'name',\n",
       "  'given_name',\n",
       "  'family_name',\n",
       "  'preferred_username',\n",
       "  'email',\n",
       "  'acr'],\n",
       " 'claim_types_supported': ['normal'],\n",
       " 'claims_parameter_supported': True,\n",
       " 'scopes_supported': ['openid',\n",
       "  'profile',\n",
       "  'microprofile-jwt',\n",
       "  'offline_access',\n",
       "  'address',\n",
       "  'web-origins',\n",
       "  'email',\n",
       "  'roles',\n",
       "  'acr',\n",
       "  'phone'],\n",
       " 'request_parameter_supported': True,\n",
       " 'request_uri_parameter_supported': True,\n",
       " 'require_request_uri_registration': True,\n",
       " 'code_challenge_methods_supported': ['plain', 'S256'],\n",
       " 'tls_client_certificate_bound_access_tokens': True,\n",
       " 'revocation_endpoint': 'http://localhost:8080/auth/realms/ROLAP/protocol/openid-connect/revoke',\n",
       " 'revocation_endpoint_auth_methods_supported': ['private_key_jwt',\n",
       "  'client_secret_basic',\n",
       "  'client_secret_post',\n",
       "  'tls_client_auth',\n",
       "  'client_secret_jwt'],\n",
       " 'revocation_endpoint_auth_signing_alg_values_supported': ['PS384',\n",
       "  'ES384',\n",
       "  'RS384',\n",
       "  'HS256',\n",
       "  'HS512',\n",
       "  'ES256',\n",
       "  'RS256',\n",
       "  'HS384',\n",
       "  'ES512',\n",
       "  'PS256',\n",
       "  'PS512',\n",
       "  'RS512'],\n",
       " 'backchannel_logout_supported': True,\n",
       " 'backchannel_logout_session_supported': True,\n",
       " 'device_authorization_endpoint': 'http://localhost:8080/auth/realms/ROLAP/protocol/openid-connect/auth/device',\n",
       " 'backchannel_token_delivery_modes_supported': ['poll', 'ping'],\n",
       " 'backchannel_authentication_endpoint': 'http://localhost:8080/auth/realms/ROLAP/protocol/openid-connect/ext/ciba/auth',\n",
       " 'backchannel_authentication_request_signing_alg_values_supported': ['PS384',\n",
       "  'ES384',\n",
       "  'RS384',\n",
       "  'ES256',\n",
       "  'RS256',\n",
       "  'ES512',\n",
       "  'PS256',\n",
       "  'PS512',\n",
       "  'RS512'],\n",
       " 'require_pushed_authorization_requests': False,\n",
       " 'pushed_authorization_request_endpoint': 'http://localhost:8080/auth/realms/ROLAP/protocol/openid-connect/ext/par/request',\n",
       " 'mtls_endpoint_aliases': {'token_endpoint': 'http://localhost:8080/auth/realms/ROLAP/protocol/openid-connect/token',\n",
       "  'revocation_endpoint': 'http://localhost:8080/auth/realms/ROLAP/protocol/openid-connect/revoke',\n",
       "  'introspection_endpoint': 'http://localhost:8080/auth/realms/ROLAP/protocol/openid-connect/token/introspect',\n",
       "  'device_authorization_endpoint': 'http://localhost:8080/auth/realms/ROLAP/protocol/openid-connect/auth/device',\n",
       "  'registration_endpoint': 'http://localhost:8080/auth/realms/ROLAP/clients-registrations/openid-connect',\n",
       "  'userinfo_endpoint': 'http://localhost:8080/auth/realms/ROLAP/protocol/openid-connect/userinfo',\n",
       "  'pushed_authorization_request_endpoint': 'http://localhost:8080/auth/realms/ROLAP/protocol/openid-connect/ext/par/request',\n",
       "  'backchannel_authentication_endpoint': 'http://localhost:8080/auth/realms/ROLAP/protocol/openid-connect/ext/ciba/auth'}}"
      ]
     },
     "execution_count": 48,
     "metadata": {},
     "output_type": "execute_result"
    }
   ],
   "source": [
    "config_well_known = keycloak_openid.well_known()\n",
    "\n",
    "config_well_known"
   ]
  },
  {
   "cell_type": "markdown",
   "id": "e9eb3197",
   "metadata": {},
   "source": [
    "## OAuth authorization request"
   ]
  },
  {
   "cell_type": "code",
   "execution_count": 49,
   "id": "ff46751a",
   "metadata": {},
   "outputs": [
    {
     "data": {
      "text/plain": [
       "'http://localhost:8080/auth/realms/ROLAP/protocol/openid-connect/auth?client_id=rolap-web&response_type=code&redirect_uri=http://localhost:4200/callback&scope=email&state=your_state_info'"
      ]
     },
     "execution_count": 49,
     "metadata": {},
     "output_type": "execute_result"
    }
   ],
   "source": [
    "auth_url = keycloak_openid.auth_url(\n",
    "    redirect_uri=\"http://localhost:4200/callback\",\n",
    "    scope=\"email\",\n",
    "    state=\"your_state_info\")\n",
    "\n",
    "auth_url"
   ]
  },
  {
   "cell_type": "markdown",
   "id": "88a2c2d5",
   "metadata": {},
   "source": [
    "## Get auth url and extract the code"
   ]
  },
  {
   "cell_type": "code",
   "execution_count": 50,
   "id": "7bab8e66",
   "metadata": {},
   "outputs": [
    {
     "name": "stdout",
     "output_type": "stream",
     "text": [
      "http://localhost:8080/auth/realms/ROLAP/login-actions/authenticate?session_code=fVZR1h9_kLaMg9V6tnzj0XxA_CfKEqTzd8AAJCOZPYY&execution=4101924f-2f9f-4f32-afb8-e5aa8628ece0&client_id=rolap-web&tab_id=ovC-WfFZpmI\n"
     ]
    }
   ],
   "source": [
    "import requests\n",
    "from bs4 import BeautifulSoup\n",
    "response = requests.get(auth_url)\n",
    "\n",
    "soup = BeautifulSoup(response.content, \"html\")\n",
    "action = soup.find('form').get('action')\n",
    "print(action)"
   ]
  },
  {
   "cell_type": "code",
   "execution_count": 51,
   "id": "8b55a4fd",
   "metadata": {},
   "outputs": [],
   "source": [
    "credentials_payload = { 'username': 'alex', 'password': 'Matematyka1!'}\n",
    "\n",
    "session = requests.Session()\n",
    "session.max_redirects = 1\n",
    "response2 = session.post(action, cookies=response.cookies, data=credentials_payload, allow_redirects=False)\n",
    "\n",
    "redirect_url = response2.headers['Location']"
   ]
  },
  {
   "cell_type": "code",
   "execution_count": 52,
   "id": "f7fdac41",
   "metadata": {},
   "outputs": [
    {
     "name": "stderr",
     "output_type": "stream",
     "text": [
      "ERROR: Could not find a version that satisfies the requirement urlparse (from versions: none)\n",
      "ERROR: No matching distribution found for urlparse\n"
     ]
    }
   ],
   "source": [
    "!pip install urlparse"
   ]
  },
  {
   "cell_type": "code",
   "execution_count": 53,
   "id": "72b7551a",
   "metadata": {},
   "outputs": [
    {
     "data": {
      "text/plain": [
       "'46de227e-098f-4ec7-8d38-5375d246c9a7.2d1af13a-ba3b-4ed2-890a-acae4a065921.bced60e5-ab19-4e8d-b259-9fd07d81025c'"
      ]
     },
     "execution_count": 53,
     "metadata": {},
     "output_type": "execute_result"
    }
   ],
   "source": [
    "import  urllib.parse\n",
    "parsed_redirect_url =  urllib.parse.urlparse(redirect_url)\n",
    "code = captured_value =  urllib.parse.parse_qs(parsed_redirect_url.query)['code'][0]\n",
    "code"
   ]
  },
  {
   "cell_type": "markdown",
   "id": "78e86c3d",
   "metadata": {},
   "source": [
    "## Get access token with code"
   ]
  },
  {
   "cell_type": "code",
   "execution_count": 54,
   "id": "2bb20a42",
   "metadata": {},
   "outputs": [
    {
     "data": {
      "text/plain": [
       "'eyJhbGciOiJSUzI1NiIsInR5cCIgOiAiSldUIiwia2lkIiA6ICJJendtSm1JRVk3N1EybVVwUWpReWtwWWR6Q1h3M3FzN0dyNHlIMzBIX3NjIn0.eyJleHAiOjE2ODU0NjMyNDQsImlhdCI6MTY4NTQ1NzI0NCwiYXV0aF90aW1lIjoxNjg1NDU3MjQyLCJqdGkiOiI5YzkwYjJhZC03Mzc1LTQ5MGMtOWFkYS1jZGUxMGQ4ZmY1YTgiLCJpc3MiOiJodHRwOi8vbG9jYWxob3N0OjgwODAvYXV0aC9yZWFsbXMvUk9MQVAiLCJhdWQiOiJhY2NvdW50Iiwic3ViIjoiODNiMTc3NTAtZDU2NC00MzE1LTkwZjEtMDJmM2QzN2UzZTI3IiwidHlwIjoiQmVhcmVyIiwiYXpwIjoicm9sYXAtd2ViIiwic2Vzc2lvbl9zdGF0ZSI6IjJkMWFmMTNhLWJhM2ItNGVkMi04OTBhLWFjYWU0YTA2NTkyMSIsImFjciI6IjEiLCJhbGxvd2VkLW9yaWdpbnMiOlsiKiJdLCJyZWFsbV9hY2Nlc3MiOnsicm9sZXMiOlsiZGVmYXVsdC1yb2xlcy1yb2xhcCIsIm9mZmxpbmVfYWNjZXNzIiwidW1hX2F1dGhvcml6YXRpb24iXX0sInJlc291cmNlX2FjY2VzcyI6eyJhY2NvdW50Ijp7InJvbGVzIjpbIm1hbmFnZS1hY2NvdW50IiwibWFuYWdlLWFjY291bnQtbGlua3MiLCJ2aWV3LXByb2ZpbGUiXX19LCJzY29wZSI6InByb2ZpbGUgZW1haWwiLCJzaWQiOiIyZDFhZjEzYS1iYTNiLTRlZDItODkwYS1hY2FlNGEwNjU5MjEiLCJlbWFpbF92ZXJpZmllZCI6dHJ1ZSwibmFtZSI6IkFsZWtzYW5kcmEgTGV3YW5kb3dza2EiLCJwcmVmZXJyZWRfdXNlcm5hbWUiOiJhbGV4IiwiZ2l2ZW5fbmFtZSI6IkFsZWtzYW5kcmEiLCJmYW1pbHlfbmFtZSI6Ikxld2FuZG93c2thIiwiZW1haWwiOiJvbGEubGV3YW5kb3dza2ExMkBnbWFpbC5jb20ifQ.JCqlLTKlka5HdsmEMDkhMPmIL93gbQjxzr7trLEqG3gBRGLvX0lnWdeVYLMdonCqJqe1PG1vBqEkIEkxmhaLKE4x2EqFixwrh5mHWzZgk78efGq7qae1LMrkLN9hJIZjsZEHRRt57pkCqySvwwbA1zKBUjBoacSr_qK5T1T82QXfjhV-Vv6fZAbW-3ukEjviz01w7hZP5kJ0SNwezIaQpyPc1svkLSMSqWYPcM8S5CPo3VKdwK2g5VvH-RcOF5EEKkLr-O08x-w8Om1XP8suGgtBjLJqpt9IgEYs1lajMZ7GwQuhjWuZ4X1cvb40ocBwd_gK-2DircCE97oGQMwlHg'"
      ]
     },
     "execution_count": 54,
     "metadata": {},
     "output_type": "execute_result"
    }
   ],
   "source": [
    "access_token = keycloak_openid.token(\n",
    "    grant_type='authorization_code',\n",
    "    code=code,\n",
    "    redirect_uri=\"http://localhost:4200/callback\")\n",
    "\n",
    "access_token['access_token']"
   ]
  },
  {
   "cell_type": "code",
   "execution_count": null,
   "id": "e8bac125",
   "metadata": {},
   "outputs": [],
   "source": []
  }
 ],
 "metadata": {
  "kernelspec": {
   "display_name": "Python 3 (ipykernel)",
   "language": "python",
   "name": "python3"
  },
  "language_info": {
   "codemirror_mode": {
    "name": "ipython",
    "version": 3
   },
   "file_extension": ".py",
   "mimetype": "text/x-python",
   "name": "python",
   "nbconvert_exporter": "python",
   "pygments_lexer": "ipython3",
   "version": "3.11.3"
  }
 },
 "nbformat": 4,
 "nbformat_minor": 5
}
